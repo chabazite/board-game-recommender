import requests
import xml.etree.ElementTree as ET

def get_game_info(game_name):
    response = requests.get(f"https://www.boardgamegeek.com/xmlapi2/search?query={game_name}")
    if response.status_code == 200:
        root = ET.fromstring(response.content)
        for item in root.findall('item'):
            name = item.find('name').attrib['value']
            year_published = item.find('yearpublished').attrib['value']
            print(f"Name: {name}, Year: {year_published}")
    else:
        print("Failed to retrieve data")

get_game_info("Catan")
